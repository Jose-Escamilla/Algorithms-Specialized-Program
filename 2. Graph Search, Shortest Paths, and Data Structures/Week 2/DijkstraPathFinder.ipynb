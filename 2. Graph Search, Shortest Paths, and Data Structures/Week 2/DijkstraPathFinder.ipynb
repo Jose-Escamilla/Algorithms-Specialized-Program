{
 "cells": [
  {
   "cell_type": "markdown",
   "metadata": {},
   "source": [
    "1.\n",
    "Pregunta 1\n",
    "In this programming problem you'll code up Dijkstra's shortest-path algorithm. \n",
    "\n",
    "Download the following text file:\n",
    "\n",
    "**dijkstraData.txt**\n",
    "\n",
    "The file contains an adjacency list representation of an undirected weighted graph with 200 vertices labeled 1 to 200.  Each row consists of the node tuples that are adjacent to that particular vertex along with the length of that edge. For example, the 6th row has 6 as the first entry indicating that this row corresponds to the vertex labeled 6. The next entry of this row \"141,8200\" indicates that there is an edge between vertex 6 and vertex 141 that has length 8200.  The rest of the pairs of this row indicate the other vertices adjacent to vertex 6 and the lengths of the corresponding edges.\n",
    "\n",
    "Your task is to run Dijkstra's shortest-path algorithm on this graph, using 1 (the first vertex) as the source vertex, and to compute the shortest-path distances between 1 and every other vertex of the graph. If there is no path between a vertex vv and vertex 1, we'll define the shortest-path distance between 1 and vv to be 1000000. \n",
    "\n",
    "You should report the shortest-path distances to the following ten vertices, in order: 7,37,59,82,99,115,133,165,188,197.  You should encode the distances as a comma-separated string of integers. So if you find that all ten of these vertices except 115 are at distance 1000 away from vertex 1 and 115 is 2000 distance away, then your answer should be 1000,1000,1000,1000,1000,2000,1000,1000,1000,1000. Remember the order of reporting DOES MATTER, and the string should be in the same order in which the above ten vertices are given. The string should not contain any spaces.  Please type your answer in the space provided.\n",
    "\n",
    "IMPLEMENTATION NOTES: This graph is small enough that the straightforward $O(mn)$ time implementation of Dijkstra's algorithm should work fine.  OPTIONAL: For those of you seeking an additional challenge, try implementing the heap-based version.  Note this requires a heap that supports deletions, and you'll probably need to maintain some kind of mapping between vertices and their positions in the heap."
   ]
  },
  {
   "cell_type": "code",
   "execution_count": 2,
   "metadata": {},
   "outputs": [
    {
     "name": "stdout",
     "output_type": "stream",
     "text": [
      "Resp:\n",
      "2599\n",
      "2610\n",
      "2947\n",
      "2052\n",
      "2367\n",
      "2399\n",
      "2029\n",
      "2442\n",
      "2505\n",
      "3068\n"
     ]
    },
    {
     "data": {
      "text/plain": [
       "'Resp: 2599\\n          2610\\n          2947\\n          2052\\n          2367\\n          2399\\n          2029\\n          2442\\n          2505\\n          30688\\n'"
      ]
     },
     "execution_count": 2,
     "metadata": {},
     "output_type": "execute_result"
    }
   ],
   "source": [
    "from ast import literal_eval\n",
    "\n",
    "\n",
    "class DijkstraPathFinder:\n",
    "\n",
    "    def __init__(self, input_file):\n",
    "        self.graph = {}\n",
    "        with open(input_file) as file:\n",
    "            for line in file:\n",
    "                line_content = line.split()\n",
    "                self.graph[int(line_content[0])] = [literal_eval(edge) for edge in line_content[1:]]\n",
    "        self._source_vertex = next(iter(self.graph.keys()))\n",
    "\n",
    "    def compute_shortest_paths(self, source=None):\n",
    "        if source is None:\n",
    "            source = self._source_vertex\n",
    "        shortest_paths = {}\n",
    "        visited = set()\n",
    "        for vertex in self.graph.keys():\n",
    "            shortest_paths[vertex] = (9999999999, [])\n",
    "        shortest_paths[source] = (0, [])\n",
    "        visited.add(source)\n",
    "        while set(self.graph.keys() - visited):\n",
    "            source, min_edge = -1, ()\n",
    "            for vertex in visited:\n",
    "                for edge in self.graph[vertex]:\n",
    "                    if edge[0] in visited:\n",
    "                        continue\n",
    "                    if not min_edge or shortest_paths[vertex][0] + edge[1] < min_edge[1]:\n",
    "                        min_edge = (edge[0], shortest_paths[vertex][0] + edge[1])\n",
    "                        source = vertex\n",
    "            shortest_paths[min_edge[0]] = (min_edge[1], shortest_paths[source][1] + [min_edge[0]])\n",
    "            visited.add(min_edge[0])\n",
    "        return shortest_paths\n",
    "\n",
    "if __name__ == '__main__':\n",
    "    path_finder = DijkstraPathFinder('dijkstraData.txt')\n",
    "    paths = path_finder.compute_shortest_paths()\n",
    "    actual = {vertex: distance[0] for (vertex, distance) in paths.items()}\n",
    "    print(\"Resp:\")\n",
    "    print(actual[7])\n",
    "    print(actual[37])\n",
    "    print(actual[59])\n",
    "    print(actual[82])\n",
    "    print(actual[99])\n",
    "    print(actual[115])\n",
    "    print(actual[133])\n",
    "    print(actual[165])\n",
    "    print(actual[188])\n",
    "    print(actual[197])\n",
    "\n",
    "'''Resp: 2599\n",
    "          2610\n",
    "          2947\n",
    "          2052\n",
    "          2367\n",
    "          2399\n",
    "          2029\n",
    "          2442\n",
    "          2505\n",
    "          30688\n",
    "'''"
   ]
  }
 ],
 "metadata": {
  "kernelspec": {
   "display_name": "Python 3",
   "language": "python",
   "name": "python3"
  },
  "language_info": {
   "codemirror_mode": {
    "name": "ipython",
    "version": 3
   },
   "file_extension": ".py",
   "mimetype": "text/x-python",
   "name": "python",
   "nbconvert_exporter": "python",
   "pygments_lexer": "ipython3",
   "version": "3.7.6"
  }
 },
 "nbformat": 4,
 "nbformat_minor": 4
}
