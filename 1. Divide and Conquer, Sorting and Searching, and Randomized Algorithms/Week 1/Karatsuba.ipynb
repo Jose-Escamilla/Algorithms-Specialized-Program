{
 "cells": [
  {
   "cell_type": "markdown",
   "metadata": {},
   "source": [
    "## Programming Assignment #1\n",
    "\n",
    "1. In this programming assignment you will implement one or more of the integer multiplication algorithms described in lecture.\n",
    "\n",
    "To get the most out of this assignment, your program should restrict itself to multiplying only pairs of single-digit numbers.  You can implement the grade-school algorithm if you want, but to get the most out of the assignment you'll want to implement recursive integer multiplication and/or Karatsuba's algorithm.\n",
    "\n",
    "So: what's the product of the following two 64-digit numbers?\n",
    "\n",
    "3141592653589793238462643383279502884197169399375105820974944592\n",
    "\n",
    "2718281828459045235360287471352662497757247093699959574966967627\n",
    "\n",
    "[TIP: before submitting, first test the correctness of your program on some small test cases of your own devising. Then post your best test cases to the discussion forums to help your fellow students!]\n",
    "\n",
    "[Food for thought: the number of digits in each input number is a power of 2.  Does this make your life easier?  Does it depend on which algorithm you're implementing?]\n",
    "\n",
    "The numeric answer should be typed in the space below.  So if your answer is 1198233847, then just type 1198233847 in the space provided without any space / commas / any other punctuation marks. \n",
    "\n",
    "(We do not require you to submit your code, so feel free to use any programming language you want --- just type the final numeric answer in the following space.)"
   ]
  },
  {
   "cell_type": "code",
   "execution_count": 2,
   "metadata": {
    "scrolled": false
   },
   "outputs": [
    {
     "name": "stdout",
     "output_type": "stream",
     "text": [
      "Resp:  8539734222673567065463550869546574495034888535765114961879601127067743044893204848617875072216249073013374895871952806582723184\n"
     ]
    }
   ],
   "source": [
    "def Karatsuba(num1,num2):\n",
    "    m=(len(str(num1))//2)\n",
    "    a = num1 // 10 ** m\n",
    "    b = num1 % 10 ** m\n",
    "    c = num2 // 10 ** m\n",
    "    d = num2 % 10 ** m\n",
    " \n",
    "    if len(str(num1))==1:\n",
    "        return num1*num2\n",
    "    else:\n",
    "        a_c = Karatsuba(a,c)\n",
    "        b_d = Karatsuba(b,d)\n",
    "        ad_bc = Karatsuba(a+b,c+d) - a_c - b_d\n",
    "        res = 10**(2*m)*a_c + 10**m*ad_bc +b_d\n",
    "        return res\n",
    "print(\"Resp:\", Karatsuba(3141592653589793238462643383279502884197169399375105820974944592,\n",
    "                2718281828459045235360287471352662497757247093699959574966967627))\n",
    "\n",
    "#Resp: 8539734222673567065463550869546574495034888535765114961879601127067743044893204848617875072216249073013374895871952806582723184"
   ]
  }
 ],
 "metadata": {
  "kernelspec": {
   "display_name": "Python 3",
   "language": "python",
   "name": "python3"
  },
  "language_info": {
   "codemirror_mode": {
    "name": "ipython",
    "version": 3
   },
   "file_extension": ".py",
   "mimetype": "text/x-python",
   "name": "python",
   "nbconvert_exporter": "python",
   "pygments_lexer": "ipython3",
   "version": "3.7.6"
  }
 },
 "nbformat": 4,
 "nbformat_minor": 4
}
