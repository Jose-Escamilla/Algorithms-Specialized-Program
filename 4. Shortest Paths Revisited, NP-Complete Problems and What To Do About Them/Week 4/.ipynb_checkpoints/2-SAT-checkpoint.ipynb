{
 "cells": [
  {
   "cell_type": "markdown",
   "metadata": {},
   "source": [
    "## 2SAT Problem\n",
    "In this assignment you will implement one or more algorithms for the 2SAT problem. Here are 6 different 2SAT instances:\n",
    "\n",
    "The file format is as follows. In each instance, the number of variables and the number of clauses is the same, and this number is specified on the first line of the file. Each subsequent line specifies a clause via its two literals, with a number denoting the variable and a \"-\" sign denoting logical \"not\". For example, the second line of the first data file is $\"-16808 75250\"$, which indicates the clause $¬x16808 ∨ x75250$.\n",
    "\n",
    "Your task is to determine which of the 6 instances are satisfiable, and which are unsatisfiable. In the box below, enter a 6-bit string, where the ith bit should be 1 if the ith instance is satisfiable, and 0 otherwise. For example, if you think that the first 3 instances are satisfiable and the last 3 are not, then you should enter the string 111000 in the box below.\n",
    "\n",
    "DISCUSSION: This assignment is deliberately open-ended, and you can implement whichever 2SAT algorithm you want. For example, 2SAT reduces to computing the strongly connected components of a suitable graph (with two vertices per variable and two directed edges per clause, you should think through the details). This might be an especially attractive option for those of you who coded up an SCC algorithm in Part 2 of this specialization. Alternatively, you can use Papadimitriou's randomized local search algorithm. (The algorithm from lecture is probably too slow as stated, so you might want to make one or more simple modifications to it --- even if this means breaking the analysis given in lecture --- to ensure that it runs in a reasonable amount of time.) A third approach is via backtracking. In lecture we mentioned this approach only in passing; see Chapter 9 of the Dasgupta-Papadimitriou-Vazirani book, for example, for more details"
   ]
  },
  {
   "cell_type": "code",
   "execution_count": 6,
   "metadata": {},
   "outputs": [],
   "source": [
    "def dfs(graph, s, visited, st):\n",
    "    st2 = []\n",
    "    st2.append(s)\n",
    "    startTimes = set()\n",
    "    while len(st2):\n",
    "        v = st2[-1]\n",
    "        if v not in startTimes: # first time\n",
    "            visited.add(v)\n",
    "            if v in graph:\n",
    "                for v2 in graph[v]:\n",
    "                    if v2 not in visited:\n",
    "                        st2.append(v2)\n",
    "            startTimes.add(v)\n",
    "        else:\n",
    "            st.append(v)\n",
    "            st2.pop()"
   ]
  },
  {
   "cell_type": "code",
   "execution_count": 8,
   "metadata": {},
   "outputs": [
    {
     "name": "stdout",
     "output_type": "stream",
     "text": [
      "True\n",
      "False\n",
      "True\n",
      "True\n",
      "False\n",
      "False\n"
     ]
    }
   ],
   "source": [
    "# Use SCC and verify than no Connected Component contains itself and its negation\n",
    "FILE_NAMES = [\"2sat1.txt\", \"2sat2.txt\", \"2sat3.txt\", \"2sat4.txt\", \"2sat5.txt\",\n",
    "    \"2sat6.txt\"]\n",
    "\n",
    "for fName in FILE_NAMES:\n",
    "    sat = True\n",
    "    f = open(fName)\n",
    "    nVar = int(f.readline())\n",
    "    lines = f.readlines()\n",
    "    f.close()\n",
    "    graph = {}\n",
    "    for line in lines:\n",
    "        v1, v2 = map(int, line.split()) # A v B\n",
    "        # ^A => B\n",
    "        if -v1 in graph:\n",
    "            graph[-v1].append(v2)\n",
    "        else:    graph[-v1] = [v2]\n",
    "        # ^B => A\n",
    "        if -v2 in graph:\n",
    "            graph[-v2].append(v1)\n",
    "        else:    graph[-v2] = [v1]\n",
    "##################################################\n",
    "    #1. DFS\n",
    "    visited = set()\n",
    "    st = []\n",
    "    for v in graph:\n",
    "        if v not in visited:\n",
    "            dfs(graph, v, visited, st)\n",
    "    #2. Reverse the graph\n",
    "    tGraph = {}\n",
    "    for v1 in graph:\n",
    "        for v2 in graph[v1]:\n",
    "            if v2 in tGraph:\n",
    "                tGraph[v2].append(v1)\n",
    "            else:    tGraph[v2] = [v1]\n",
    "    #3. DFS again\n",
    "    visited = set()\n",
    "    while len(st):\n",
    "        v = st.pop()\n",
    "        if v not in visited:\n",
    "            scc = []\n",
    "            dfs(tGraph, v, visited, scc)\n",
    "            scc = set(scc)\n",
    "            for v in scc:\n",
    "                if -v in scc:\n",
    "                    sat = False\n",
    "    print(sat) #Resp: 101100\n",
    "    #print(\"PASS\")"
   ]
  }
 ],
 "metadata": {
  "kernelspec": {
   "display_name": "Python 3",
   "language": "python",
   "name": "python3"
  },
  "language_info": {
   "codemirror_mode": {
    "name": "ipython",
    "version": 3
   },
   "file_extension": ".py",
   "mimetype": "text/x-python",
   "name": "python",
   "nbconvert_exporter": "python",
   "pygments_lexer": "ipython3",
   "version": "3.7.6"
  }
 },
 "nbformat": 4,
 "nbformat_minor": 4
}
